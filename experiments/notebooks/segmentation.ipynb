{
 "cells": [
  {
   "cell_type": "code",
   "execution_count": 1,
   "metadata": {},
   "outputs": [],
   "source": [
    "import pandas as pd\n",
    "import seaborn as sns\n",
    "import matplotlib.pyplot as plt"
   ]
  },
  {
   "cell_type": "markdown",
   "metadata": {},
   "source": [
    "### Reading a file\n",
    "- Each file here is a shard of hydi_track_10_58_0.trk (split into 10 shards). 72.7-165.3MB in size.\n",
    "- Block size is 32MB\n",
    "- 5 repetitions"
   ]
  },
  {
   "cell_type": "markdown",
   "metadata": {},
   "source": [
    "#### 1 File sequential"
   ]
  },
  {
   "cell_type": "code",
   "execution_count": 2,
   "metadata": {},
   "outputs": [
    {
     "data": {
      "image/png": "[encoded data removed]",
      "text/plain": [
       "<Figure size 432x288 with 1 Axes>"
      ]
     },
     "metadata": {
      "needs_background": "light"
     },
     "output_type": "display_data"
    }
   ],
   "source": [
    "df = pd.read_csv(\"../results/us-west-2-R5.4xlarge/segmentation_shards_waypoint_1f_5r_33554432b.out\")\n",
    "df_read = df[df[\"action\"].str.contains(\"read\")]\n",
    "ax = sns.barplot(x=\"action\", y=\"runtime\", data=df_read)\n"
   ]
  },
  {
   "cell_type": "markdown",
   "metadata": {},
   "source": [
    "#### 1 file 16 joblib threads"
   ]
  },
  {
   "cell_type": "code",
   "execution_count": 3,
   "metadata": {},
   "outputs": [
    {
     "data": {
      "image/png": "[encoded data removed]",
      "text/plain": [
       "<Figure size 432x288 with 1 Axes>"
      ]
     },
     "metadata": {
      "needs_background": "light"
     },
     "output_type": "display_data"
    }
   ],
   "source": [
    "df = pd.read_csv(\"../results/us-west-2-R5.4xlarge/segmentation_shards_waypoint_1f_5r_33554432b_16j_seq.out\")\n",
    "df_read = df[df[\"action\"].str.contains(\"read\")]\n",
    "ax = sns.barplot(x=\"action\", y=\"runtime\", data=df_read)\n"
   ]
  },
  {
   "cell_type": "markdown",
   "metadata": {},
   "source": [
    "#### 9 Files sequential"
   ]
  },
  {
   "cell_type": "code",
   "execution_count": 4,
   "metadata": {},
   "outputs": [
    {
     "name": "stderr",
     "output_type": "stream",
     "text": [
      "<ipython-input-4-923a2e07790d>:3: SettingWithCopyWarning: \n",
      "A value is trying to be set on a copy of a slice from a DataFrame.\n",
      "Try using .loc[row_indexer,col_indexer] = value instead\n",
      "\n",
      "See the caveats in the documentation: https://pandas.pydata.org/pandas-docs/stable/user_guide/indexing.html#returning-a-view-versus-a-copy\n",
      "  df_read[\"rep\"] = df_read.index.values\n",
      "<ipython-input-4-923a2e07790d>:5: SettingWithCopyWarning: \n",
      "A value is trying to be set on a copy of a slice from a DataFrame.\n",
      "Try using .loc[row_indexer,col_indexer] = value instead\n",
      "\n",
      "See the caveats in the documentation: https://pandas.pydata.org/pandas-docs/stable/user_guide/indexing.html#returning-a-view-versus-a-copy\n",
      "  df_read[\"rep\"] = df_read[\"rep\"].apply( lambda v:\n",
      "/home/valeriehayot/Documents/code/ariel_internship/rollingprefetch/.venv/lib64/python3.9/site-packages/pandas/core/indexing.py:1787: SettingWithCopyWarning: \n",
      "A value is trying to be set on a copy of a slice from a DataFrame.\n",
      "Try using .loc[row_indexer,col_indexer] = value instead\n",
      "\n",
      "See the caveats in the documentation: https://pandas.pydata.org/pandas-docs/stable/user_guide/indexing.html#returning-a-view-versus-a-copy\n",
      "  self._setitem_single_column(loc, val, pi)\n"
     ]
    },
    {
     "data": {
      "image/png": "[encoded data removed]",
      "text/plain": [
       "<Figure size 432x288 with 1 Axes>"
      ]
     },
     "metadata": {
      "needs_background": "light"
     },
     "output_type": "display_data"
    }
   ],
   "source": [
    "df = pd.read_csv(\"../results/us-west-2-R5.4xlarge/segmentation_shards_waypoint_9f_5r_33554432b.out\")\n",
    "df_read = df[df[\"action\"].str.contains(\"read\")]\n",
    "df_read[\"rep\"] = df_read.index.values\n",
    "\n",
    "df_read[\"rep\"] = df_read[\"rep\"].apply( lambda v:\n",
    "    0 if 0 <= v <= 10 \n",
    "    else 1 if 12 <= v <= 22\n",
    "    else 2 if 24 <= v <= 34\n",
    "    else 3 if 36 <= v <= 46\n",
    "    else 4\n",
    ") \n",
    "df_read.loc[df[\"action\"].str.contains(\"s3fs\"), [\"rep\",\"runtime\"]] = df_read.loc[df[\"action\"].str.contains(\"s3fs\"), [\"rep\",\"runtime\"]].groupby(\"rep\").sum()\n",
    "ax = sns.barplot(x=\"action\", y=\"runtime\", data=df_read)"
   ]
  },
  {
   "cell_type": "markdown",
   "metadata": {},
   "source": [
    "#### 9 files parallel"
   ]
  },
  {
   "cell_type": "code",
   "execution_count": 5,
   "metadata": {},
   "outputs": [
    {
     "name": "stderr",
     "output_type": "stream",
     "text": [
      "<ipython-input-5-5db4ac623ba8>:3: SettingWithCopyWarning: \n",
      "A value is trying to be set on a copy of a slice from a DataFrame.\n",
      "Try using .loc[row_indexer,col_indexer] = value instead\n",
      "\n",
      "See the caveats in the documentation: https://pandas.pydata.org/pandas-docs/stable/user_guide/indexing.html#returning-a-view-versus-a-copy\n",
      "  df_read[\"rep\"] = df_read.index.values\n",
      "<ipython-input-5-5db4ac623ba8>:5: SettingWithCopyWarning: \n",
      "A value is trying to be set on a copy of a slice from a DataFrame.\n",
      "Try using .loc[row_indexer,col_indexer] = value instead\n",
      "\n",
      "See the caveats in the documentation: https://pandas.pydata.org/pandas-docs/stable/user_guide/indexing.html#returning-a-view-versus-a-copy\n",
      "  df_read[\"rep\"] = df_read[\"rep\"].apply( lambda v:\n",
      "/home/valeriehayot/Documents/code/ariel_internship/rollingprefetch/.venv/lib64/python3.9/site-packages/pandas/core/indexing.py:1787: SettingWithCopyWarning: \n",
      "A value is trying to be set on a copy of a slice from a DataFrame.\n",
      "Try using .loc[row_indexer,col_indexer] = value instead\n",
      "\n",
      "See the caveats in the documentation: https://pandas.pydata.org/pandas-docs/stable/user_guide/indexing.html#returning-a-view-versus-a-copy\n",
      "  self._setitem_single_column(loc, val, pi)\n"
     ]
    },
    {
     "data": {
      "image/png": "[encoded data removed]",
      "text/plain": [
       "<Figure size 432x288 with 1 Axes>"
      ]
     },
     "metadata": {
      "needs_background": "light"
     },
     "output_type": "display_data"
    }
   ],
   "source": [
    "df = pd.read_csv(\"../results/us-west-2-R5.4xlarge/segmentation_shards_waypoint_9f_5r_33554432b_16j_seq.out\")\n",
    "df_read = df[df[\"action\"].str.contains(\"read\")]\n",
    "df_read[\"rep\"] = df_read.index.values\n",
    "\n",
    "df_read[\"rep\"] = df_read[\"rep\"].apply( lambda v:\n",
    "    0 if 0 <= v <= 10 \n",
    "    else 1 if 12 <= v <= 22\n",
    "    else 2 if 24 <= v <= 34\n",
    "    else 3 if 36 <= v <= 46\n",
    "    else 4\n",
    ") \n",
    "df_read.loc[df[\"action\"].str.contains(\"s3fs\"), [\"rep\",\"runtime\"]] = df_read.loc[df[\"action\"].str.contains(\"s3fs\"), [\"rep\",\"runtime\"]].groupby(\"rep\").sum()\n",
    "ax = sns.barplot(x=\"action\", y=\"runtime\", data=df_read)"
   ]
  },
  {
   "cell_type": "markdown",
   "metadata": {},
   "source": [
    "## Full segmentation benchmarks\n",
    "\n",
    "- Each file here is a shard of hydi_track_10_58_0.trk (split into 10 shards). 72.7-165.3MB in size.\n",
    "- Block size is 32MB\n",
    "- 5 repetitions"
   ]
  },
  {
   "cell_type": "markdown",
   "metadata": {},
   "source": [
    "#### 1 file sequential"
   ]
  },
  {
   "cell_type": "code",
   "execution_count": 6,
   "metadata": {},
   "outputs": [
    {
     "data": {
      "image/png": "[encoded data removed]",
      "text/plain": [
       "<Figure size 432x288 with 1 Axes>"
      ]
     },
     "metadata": {
      "needs_background": "light"
     },
     "output_type": "display_data"
    }
   ],
   "source": [
    "df = pd.read_csv(\"../results/us-west-2-R5.4xlarge/segmentation_shards_waypoint_1f_5r_33554432b.out\")\n",
    "df_seg = df[df[\"action\"].str.contains(\"seg\")]\n",
    "ax = sns.barplot(x=\"action\", y=\"runtime\", data=df_seg)"
   ]
  },
  {
   "cell_type": "markdown",
   "metadata": {},
   "source": [
    "#### 1 file 16 joblib threads"
   ]
  },
  {
   "cell_type": "code",
   "execution_count": 7,
   "metadata": {},
   "outputs": [
    {
     "data": {
      "image/png": "[encoded data removed]",
      "text/plain": [
       "<Figure size 432x288 with 1 Axes>"
      ]
     },
     "metadata": {
      "needs_background": "light"
     },
     "output_type": "display_data"
    }
   ],
   "source": [
    "df = pd.read_csv(\"../results/us-west-2-R5.4xlarge/segmentation_shards_waypoint_1f_5r_33554432b_16j_seq.out\")\n",
    "df_seg = df[df[\"action\"].str.contains(\"seg\")]\n",
    "ax = sns.barplot(x=\"action\", y=\"runtime\", data=df_seg)"
   ]
  },
  {
   "cell_type": "markdown",
   "metadata": {},
   "source": [
    "#### 9 files sequential"
   ]
  },
  {
   "cell_type": "code",
   "execution_count": 8,
   "metadata": {},
   "outputs": [
    {
     "data": {
      "image/png": "[encoded data removed]",
      "text/plain": [
       "<Figure size 432x288 with 1 Axes>"
      ]
     },
     "metadata": {
      "needs_background": "light"
     },
     "output_type": "display_data"
    }
   ],
   "source": [
    "df = pd.read_csv(\"../results/us-west-2-R5.4xlarge/segmentation_shards_waypoint_9f_5r_33554432b.out\")\n",
    "df_seg = df[df[\"action\"].str.contains(\"seg\")]\n",
    "ax = sns.barplot(x=\"action\", y=\"runtime\", data=df_seg)"
   ]
  },
  {
   "cell_type": "markdown",
   "metadata": {},
   "source": [
    "#### 9 files 16 joblib threads"
   ]
  },
  {
   "cell_type": "code",
   "execution_count": 9,
   "metadata": {},
   "outputs": [
    {
     "name": "stderr",
     "output_type": "stream",
     "text": [
      "/home/valeriehayot/Documents/code/ariel_internship/rollingprefetch/.venv/lib64/python3.9/site-packages/pandas/core/indexing.py:1720: SettingWithCopyWarning: \n",
      "A value is trying to be set on a copy of a slice from a DataFrame.\n",
      "Try using .loc[row_indexer,col_indexer] = value instead\n",
      "\n",
      "See the caveats in the documentation: https://pandas.pydata.org/pandas-docs/stable/user_guide/indexing.html#returning-a-view-versus-a-copy\n",
      "  self._setitem_single_column(loc, value, pi)\n"
     ]
    },
    {
     "data": {
      "image/png": "[encoded data removed]",
      "text/plain": [
       "<Figure size 432x288 with 1 Axes>"
      ]
     },
     "metadata": {
      "needs_background": "light"
     },
     "output_type": "display_data"
    }
   ],
   "source": [
    "df = pd.read_csv(\"../results/us-west-2-R5.4xlarge/segmentation_shards_waypoint_9f_5r_33554432b_16j_seq.out\")\n",
    "df_seg = df[df[\"action\"].str.contains(\"seg\")]\n",
    "df_seg.loc[df_seg[\"action\"].str.contains(\"s3fs\"), \"action\"] = \"s3fs\"\n",
    "df_seg.loc[df_seg[\"action\"].str.contains(\"prefetch\"), \"action\"] = \"prefetch\"\n",
    "\n",
    "df_orig = pd.read_csv(\"../results/us-west-2-R5.4xlarge/segmentation_orig_waypoint_1f_5r_33554432b_16j_seq.out\")\n",
    "df_orig = df_orig[df_orig[\"action\"].str.contains(\"seg\")]\n",
    "df_orig[\"action\"] = \"unsharded\"\n",
    "\n",
    "df = pd.concat([df_seg, df_orig])\n",
    "ax = sns.barplot(x=\"action\", y=\"runtime\", data=df)"
   ]
  },
  {
   "cell_type": "markdown",
   "metadata": {},
   "source": [
    "#### Larger shards (original tract files)"
   ]
  },
  {
   "cell_type": "markdown",
   "metadata": {},
   "source": [
    "#### Read"
   ]
  },
  {
   "cell_type": "code",
   "execution_count": 10,
   "metadata": {},
   "outputs": [
    {
     "name": "stderr",
     "output_type": "stream",
     "text": [
      "<ipython-input-10-fb1d1081b4cd>:3: SettingWithCopyWarning: \n",
      "A value is trying to be set on a copy of a slice from a DataFrame.\n",
      "Try using .loc[row_indexer,col_indexer] = value instead\n",
      "\n",
      "See the caveats in the documentation: https://pandas.pydata.org/pandas-docs/stable/user_guide/indexing.html#returning-a-view-versus-a-copy\n",
      "  df_read[\"rep\"] = df_read.index.values\n",
      "<ipython-input-10-fb1d1081b4cd>:5: SettingWithCopyWarning: \n",
      "A value is trying to be set on a copy of a slice from a DataFrame.\n",
      "Try using .loc[row_indexer,col_indexer] = value instead\n",
      "\n",
      "See the caveats in the documentation: https://pandas.pydata.org/pandas-docs/stable/user_guide/indexing.html#returning-a-view-versus-a-copy\n",
      "  df_read[\"rep\"] = df_read[\"rep\"].apply( lambda v:\n",
      "/home/valeriehayot/Documents/code/ariel_internship/rollingprefetch/.venv/lib64/python3.9/site-packages/pandas/core/indexing.py:1787: SettingWithCopyWarning: \n",
      "A value is trying to be set on a copy of a slice from a DataFrame.\n",
      "Try using .loc[row_indexer,col_indexer] = value instead\n",
      "\n",
      "See the caveats in the documentation: https://pandas.pydata.org/pandas-docs/stable/user_guide/indexing.html#returning-a-view-versus-a-copy\n",
      "  self._setitem_single_column(loc, val, pi)\n"
     ]
    },
    {
     "data": {
      "image/png": "[encoded data removed]",
      "text/plain": [
       "<Figure size 432x288 with 1 Axes>"
      ]
     },
     "metadata": {
      "needs_background": "light"
     },
     "output_type": "display_data"
    }
   ],
   "source": [
    "df = pd.read_csv(\"../results/us-west-2-R5.4xlarge/segmentation_orig_waypoint_10f_5r_33554432b_16j_seq.out\")\n",
    "df_read = df[df[\"action\"].str.contains(\"read\")]\n",
    "df_read[\"rep\"] = df_read.index.values\n",
    "\n",
    "df_read[\"rep\"] = df_read[\"rep\"].apply( lambda v:\n",
    "    0 if 0 <= v <= 10 \n",
    "    else 1 if 12 <= v <= 22\n",
    "    else 2 if 24 <= v <= 34\n",
    "    else 3 if 36 <= v <= 46\n",
    "    else 4\n",
    ") \n",
    "df_read.loc[df[\"action\"].str.contains(\"s3fs\"), [\"rep\",\"runtime\"]] = df_read.loc[df[\"action\"].str.contains(\"s3fs\"), [\"rep\",\"runtime\"]].groupby(\"rep\").sum()\n",
    "ax = sns.barplot(x=\"action\", y=\"runtime\", data=df_read)"
   ]
  },
  {
   "cell_type": "markdown",
   "metadata": {},
   "source": [
    "### Segmentation"
   ]
  },
  {
   "cell_type": "code",
   "execution_count": 11,
   "metadata": {},
   "outputs": [
    {
     "data": {
      "text/html": [
       "<div>\n",
       "<style scoped>\n",
       "    .dataframe tbody tr th:only-of-type {\n",
       "        vertical-align: middle;\n",
       "    }\n",
       "\n",
       "    .dataframe tbody tr th {\n",
       "        vertical-align: top;\n",
       "    }\n",
       "\n",
       "    .dataframe thead th {\n",
       "        text-align: right;\n",
       "    }\n",
       "</style>\n",
       "<table border=\"1\" class=\"dataframe\">\n",
       "  <thead>\n",
       "    <tr style=\"text-align: right;\">\n",
       "      <th></th>\n",
       "      <th>action</th>\n",
       "      <th>file</th>\n",
       "      <th>timestamp</th>\n",
       "      <th>runtime</th>\n",
       "      <th>lazy</th>\n",
       "      <th>blocksize</th>\n",
       "      <th>prefetch_storage</th>\n",
       "      <th>instance</th>\n",
       "    </tr>\n",
       "  </thead>\n",
       "  <tbody>\n",
       "    <tr>\n",
       "      <th>0</th>\n",
       "      <td>RP</td>\n",
       "      <td>['vhs-bucket/hydi-header.trk', 'hydi-tractogra...</td>\n",
       "      <td>6580670716751</td>\n",
       "      <td>831.098760</td>\n",
       "      <td>False</td>\n",
       "      <td>67108864</td>\n",
       "      <td>(('/dev/shm', 2048),)</td>\n",
       "      <td>c5.9xLarge</td>\n",
       "    </tr>\n",
       "    <tr>\n",
       "      <th>1</th>\n",
       "      <td>s3fs</td>\n",
       "      <td>['hydi-tractography/hydi_tracks.10_58_0.trk']</td>\n",
       "      <td>7412574946743</td>\n",
       "      <td>1362.101708</td>\n",
       "      <td>False</td>\n",
       "      <td>67108864</td>\n",
       "      <td>[]</td>\n",
       "      <td>c5.9xLarge</td>\n",
       "    </tr>\n",
       "    <tr>\n",
       "      <th>2</th>\n",
       "      <td>RP</td>\n",
       "      <td>['vhs-bucket/hydi-header.trk', 'hydi-tractogra...</td>\n",
       "      <td>8775342088855</td>\n",
       "      <td>873.520163</td>\n",
       "      <td>False</td>\n",
       "      <td>67108864</td>\n",
       "      <td>(('/dev/shm', 2048),)</td>\n",
       "      <td>c5.9xLarge</td>\n",
       "    </tr>\n",
       "    <tr>\n",
       "      <th>3</th>\n",
       "      <td>s3fs</td>\n",
       "      <td>['hydi-tractography/hydi_tracks.10_58_0.trk']</td>\n",
       "      <td>9649495097332</td>\n",
       "      <td>1347.846516</td>\n",
       "      <td>False</td>\n",
       "      <td>67108864</td>\n",
       "      <td>[]</td>\n",
       "      <td>c5.9xLarge</td>\n",
       "    </tr>\n",
       "    <tr>\n",
       "      <th>4</th>\n",
       "      <td>s3fs</td>\n",
       "      <td>['hydi-tractography/hydi_tracks.10_58_0.trk']</td>\n",
       "      <td>10998048774556</td>\n",
       "      <td>1356.611338</td>\n",
       "      <td>False</td>\n",
       "      <td>67108864</td>\n",
       "      <td>[]</td>\n",
       "      <td>c5.9xLarge</td>\n",
       "    </tr>\n",
       "    <tr>\n",
       "      <th>5</th>\n",
       "      <td>RP</td>\n",
       "      <td>['vhs-bucket/hydi-header.trk', 'hydi-tractogra...</td>\n",
       "      <td>12355346559410</td>\n",
       "      <td>850.377738</td>\n",
       "      <td>False</td>\n",
       "      <td>67108864</td>\n",
       "      <td>(('/dev/shm', 2048),)</td>\n",
       "      <td>c5.9xLarge</td>\n",
       "    </tr>\n",
       "    <tr>\n",
       "      <th>6</th>\n",
       "      <td>s3fs</td>\n",
       "      <td>['hydi-tractography/hydi_tracks.10_58_0.trk']</td>\n",
       "      <td>13206388878012</td>\n",
       "      <td>1341.830281</td>\n",
       "      <td>False</td>\n",
       "      <td>67108864</td>\n",
       "      <td>[]</td>\n",
       "      <td>c5.9xLarge</td>\n",
       "    </tr>\n",
       "    <tr>\n",
       "      <th>7</th>\n",
       "      <td>RP</td>\n",
       "      <td>['vhs-bucket/hydi-header.trk', 'hydi-tractogra...</td>\n",
       "      <td>14548919773606</td>\n",
       "      <td>844.331145</td>\n",
       "      <td>False</td>\n",
       "      <td>67108864</td>\n",
       "      <td>(('/dev/shm', 2048),)</td>\n",
       "      <td>c5.9xLarge</td>\n",
       "    </tr>\n",
       "    <tr>\n",
       "      <th>8</th>\n",
       "      <td>RP</td>\n",
       "      <td>['vhs-bucket/hydi-header.trk', 'hydi-tractogra...</td>\n",
       "      <td>15393879814937</td>\n",
       "      <td>837.871696</td>\n",
       "      <td>False</td>\n",
       "      <td>67108864</td>\n",
       "      <td>(('/dev/shm', 2048),)</td>\n",
       "      <td>c5.9xLarge</td>\n",
       "    </tr>\n",
       "    <tr>\n",
       "      <th>9</th>\n",
       "      <td>s3fs</td>\n",
       "      <td>['hydi-tractography/hydi_tracks.10_58_0.trk']</td>\n",
       "      <td>16232460286236</td>\n",
       "      <td>1352.810578</td>\n",
       "      <td>False</td>\n",
       "      <td>67108864</td>\n",
       "      <td>[]</td>\n",
       "      <td>c5.9xLarge</td>\n",
       "    </tr>\n",
       "  </tbody>\n",
       "</table>\n",
       "</div>"
      ],
      "text/plain": [
       "  action                                               file       timestamp  \\\n",
       "0     RP  ['vhs-bucket/hydi-header.trk', 'hydi-tractogra...   6580670716751   \n",
       "1   s3fs      ['hydi-tractography/hydi_tracks.10_58_0.trk']   7412574946743   \n",
       "2     RP  ['vhs-bucket/hydi-header.trk', 'hydi-tractogra...   8775342088855   \n",
       "3   s3fs      ['hydi-tractography/hydi_tracks.10_58_0.trk']   9649495097332   \n",
       "4   s3fs      ['hydi-tractography/hydi_tracks.10_58_0.trk']  10998048774556   \n",
       "5     RP  ['vhs-bucket/hydi-header.trk', 'hydi-tractogra...  12355346559410   \n",
       "6   s3fs      ['hydi-tractography/hydi_tracks.10_58_0.trk']  13206388878012   \n",
       "7     RP  ['vhs-bucket/hydi-header.trk', 'hydi-tractogra...  14548919773606   \n",
       "8     RP  ['vhs-bucket/hydi-header.trk', 'hydi-tractogra...  15393879814937   \n",
       "9   s3fs      ['hydi-tractography/hydi_tracks.10_58_0.trk']  16232460286236   \n",
       "\n",
       "       runtime   lazy  blocksize       prefetch_storage    instance  \n",
       "0   831.098760  False   67108864  (('/dev/shm', 2048),)  c5.9xLarge  \n",
       "1  1362.101708  False   67108864                     []  c5.9xLarge  \n",
       "2   873.520163  False   67108864  (('/dev/shm', 2048),)  c5.9xLarge  \n",
       "3  1347.846516  False   67108864                     []  c5.9xLarge  \n",
       "4  1356.611338  False   67108864                     []  c5.9xLarge  \n",
       "5   850.377738  False   67108864  (('/dev/shm', 2048),)  c5.9xLarge  \n",
       "6  1341.830281  False   67108864                     []  c5.9xLarge  \n",
       "7   844.331145  False   67108864  (('/dev/shm', 2048),)  c5.9xLarge  \n",
       "8   837.871696  False   67108864  (('/dev/shm', 2048),)  c5.9xLarge  \n",
       "9  1352.810578  False   67108864                     []  c5.9xLarge  "
      ]
     },
     "execution_count": 11,
     "metadata": {},
     "output_type": "execute_result"
    }
   ],
   "source": [
    "df_c = pd.read_csv(\"../results/us-west-2-c5.9/real_1f_5r_67108864b.out\")\n",
    "df_c[\"instance\"] = \"c5.9xLarge\"\n",
    "df_c.loc[df_c[\"action\"].str.contains(\"s3fs\"), \"action\"] = \"s3fs\"\n",
    "df_c.loc[df_c[\"action\"].str.contains(\"prefetch\"), \"action\"] = \"RP\"\n",
    "speedup_c = df_c.loc[df_c[\"action\"] == \"s3fs\", \"runtime\"].mean() / df_c.loc[df_c[\"action\"] == \"RP\", \"runtime\"].mean()\n",
    "speedup_c\n",
    "df_c"
   ]
  },
  {
   "cell_type": "code",
   "execution_count": 12,
   "metadata": {},
   "outputs": [
    {
     "name": "stderr",
     "output_type": "stream",
     "text": [
      "<ipython-input-12-c4df0ea8eca3>:3: SettingWithCopyWarning: \n",
      "A value is trying to be set on a copy of a slice from a DataFrame.\n",
      "Try using .loc[row_indexer,col_indexer] = value instead\n",
      "\n",
      "See the caveats in the documentation: https://pandas.pydata.org/pandas-docs/stable/user_guide/indexing.html#returning-a-view-versus-a-copy\n",
      "  df_seg[\"instance\"] = \"R5.4xLarge\"\n",
      "/home/valeriehayot/Documents/code/ariel_internship/rollingprefetch/.venv/lib64/python3.9/site-packages/pandas/core/indexing.py:1720: SettingWithCopyWarning: \n",
      "A value is trying to be set on a copy of a slice from a DataFrame.\n",
      "Try using .loc[row_indexer,col_indexer] = value instead\n",
      "\n",
      "See the caveats in the documentation: https://pandas.pydata.org/pandas-docs/stable/user_guide/indexing.html#returning-a-view-versus-a-copy\n",
      "  self._setitem_single_column(loc, value, pi)\n"
     ]
    },
    {
     "data": {
      "text/plain": [
       "1.14148707206663"
      ]
     },
     "execution_count": 12,
     "metadata": {},
     "output_type": "execute_result"
    },
    {
     "data": {
      "image/png": "[encoded data removed]",
      "text/plain": [
       "<Figure size 432x288 with 1 Axes>"
      ]
     },
     "metadata": {
      "needs_background": "light"
     },
     "output_type": "display_data"
    }
   ],
   "source": [
    "df = pd.read_csv(\"../results/us-west-2-R5.4xlarge/segmentation_orig_waypoint_10f_5r_33554432b_16j_seq.out\")\n",
    "df_seg = df[df[\"action\"].str.contains(\"seg\")]\n",
    "df_seg[\"instance\"] = \"R5.4xLarge\"\n",
    "df_seg.loc[df_seg[\"action\"].str.contains(\"s3fs\"), \"action\"] = \"s3fs\"\n",
    "df_seg.loc[df_seg[\"action\"].str.contains(\"prefetch\"), \"action\"] = \"RP\"\n",
    "speedup_r = df_seg.loc[df_seg[\"action\"] == \"s3fs\", \"runtime\"].mean() / df_seg.loc[df_seg[\"action\"] == \"RP\", \"runtime\"].mean()\n",
    "\n",
    "df_all = pd.concat([df_c, df_seg])\n",
    "ax = sns.barplot(x=\"instance\", y=\"runtime\", hue=\"action\", data=df_all)\n",
    "speedup_r"
   ]
  },
  {
   "cell_type": "code",
   "execution_count": 13,
   "metadata": {},
   "outputs": [
    {
     "data": {
      "image/png": "[encoded data removed]",
      "text/plain": [
       "<Figure size 432x288 with 1 Axes>"
      ]
     },
     "metadata": {
      "needs_background": "light"
     },
     "output_type": "display_data"
    }
   ],
   "source": [
    "ax = sns.barplot(x=[\"c5.9xlarge\", \"r5.4xlarge\"], y=[speedup_c, speedup_r], color=\"seagreen\", saturation=0.5)\n",
    "sns.set_style(\"darkgrid\", {\"axes.facecolor\": \".9\"})\n",
    "ax.set_ylabel(\"Avg. Speedup\")\n",
    "ax.set_xlabel(\"Instance Type\")\n",
    "plt.savefig(\"speedup.pdf\")"
   ]
  },
  {
   "cell_type": "markdown",
   "metadata": {},
   "source": [
    "## 15 files\n",
    "### Read"
   ]
  },
  {
   "cell_type": "code",
   "execution_count": 14,
   "metadata": {},
   "outputs": [
    {
     "name": "stderr",
     "output_type": "stream",
     "text": [
      "<ipython-input-14-a3fceeae4a49>:4: SettingWithCopyWarning: \n",
      "A value is trying to be set on a copy of a slice from a DataFrame.\n",
      "Try using .loc[row_indexer,col_indexer] = value instead\n",
      "\n",
      "See the caveats in the documentation: https://pandas.pydata.org/pandas-docs/stable/user_guide/indexing.html#returning-a-view-versus-a-copy\n",
      "  df_read[\"rep\"] = 0\n",
      "/home/valeriehayot/Documents/code/ariel_internship/rollingprefetch/.venv/lib64/python3.9/site-packages/pandas/core/indexing.py:1720: SettingWithCopyWarning: \n",
      "A value is trying to be set on a copy of a slice from a DataFrame.\n",
      "Try using .loc[row_indexer,col_indexer] = value instead\n",
      "\n",
      "See the caveats in the documentation: https://pandas.pydata.org/pandas-docs/stable/user_guide/indexing.html#returning-a-view-versus-a-copy\n",
      "  self._setitem_single_column(loc, value, pi)\n",
      "/home/valeriehayot/Documents/code/ariel_internship/rollingprefetch/.venv/lib64/python3.9/site-packages/pandas/core/indexing.py:1787: SettingWithCopyWarning: \n",
      "A value is trying to be set on a copy of a slice from a DataFrame.\n",
      "Try using .loc[row_indexer,col_indexer] = value instead\n",
      "\n",
      "See the caveats in the documentation: https://pandas.pydata.org/pandas-docs/stable/user_guide/indexing.html#returning-a-view-versus-a-copy\n",
      "  self._setitem_single_column(loc, val, pi)\n"
     ]
    },
    {
     "data": {
      "image/png": "[encoded data removed]",
      "text/plain": [
       "<Figure size 432x288 with 1 Axes>"
      ]
     },
     "metadata": {},
     "output_type": "display_data"
    }
   ],
   "source": [
    "df = pd.read_csv(\"../results/us-west-2-R5.4xlarge/segmentation_orig_waypoint_15f_5r_33554432b_16j_seq.out\")\n",
    "df_read = df[df[\"action\"].str.contains(\"read\")]\n",
    "\n",
    "df_read[\"rep\"] = 0\n",
    "df_read.loc[df_read.iloc[18:34].index.values,\"rep\"] = 1\n",
    "df_read.loc[df_read.iloc[36:52].index.values,\"rep\"] = 2\n",
    "df_read.loc[df_read.iloc[54:70].index.values,\"rep\"] = 3\n",
    "df_read.loc[df_read.iloc[72:88].index.values,\"rep\"] = 4\n",
    "df_read.loc[df[\"action\"].str.contains(\"s3fs\"), [\"rep\",\"runtime\"]] = df_read.loc[df[\"action\"].str.contains(\"s3fs\"), [\"rep\",\"runtime\"]].groupby(\"rep\").sum()\n",
    "ax = sns.barplot(x=\"action\", y=\"runtime\", data=df_read)"
   ]
  },
  {
   "cell_type": "markdown",
   "metadata": {},
   "source": [
    "### Segmentation"
   ]
  },
  {
   "cell_type": "code",
   "execution_count": 15,
   "metadata": {},
   "outputs": [
    {
     "data": {
      "image/png": "[encoded data removed]",
      "text/plain": [
       "<Figure size 432x288 with 1 Axes>"
      ]
     },
     "metadata": {},
     "output_type": "display_data"
    }
   ],
   "source": [
    "df_seg = df[df[\"action\"].str.contains(\"seg\")]\n",
    "ax = sns.barplot(x=\"action\", y=\"runtime\", data=df_seg)"
   ]
  },
  {
   "cell_type": "markdown",
   "metadata": {},
   "source": [
    "### Histogram"
   ]
  },
  {
   "cell_type": "markdown",
   "metadata": {},
   "source": [
    "#### 15 files 20bins not lazy"
   ]
  },
  {
   "cell_type": "code",
   "execution_count": 16,
   "metadata": {},
   "outputs": [
    {
     "data": {
      "image/png": "[encoded data removed]",
      "text/plain": [
       "<Figure size 432x288 with 1 Axes>"
      ]
     },
     "metadata": {},
     "output_type": "display_data"
    }
   ],
   "source": [
    "df = pd.read_csv(\"../results/us-west-2-R5.4xlarge/histogram_orig_15f_5r_33554432b_20bins_seq.out\")\n",
    "ax = sns.barplot(x=\"action\", y=\"runtime\", data=df)\n",
    "plt.savefig(\"histo_15_20bins_notlazy.pdf\")"
   ]
  },
  {
   "cell_type": "code",
   "execution_count": 17,
   "metadata": {},
   "outputs": [
    {
     "data": {
      "image/png": "[encoded data removed]",
      "text/plain": [
       "<Figure size 432x288 with 1 Axes>"
      ]
     },
     "metadata": {},
     "output_type": "display_data"
    }
   ],
   "source": [
    "df = pd.read_csv(\"../results/us-west-2-R5.4xlarge/histogram_orig_45f_5r_33554432b_20bins_3dask_lazy.out\")\n",
    "df[\"rep\"] = 0\n",
    "df.loc[df.iloc[6:12].index.values,\"rep\"] = 1\n",
    "df.loc[df.iloc[12:18].index.values,\"rep\"] = 2\n",
    "df.loc[df.iloc[18:24].index.values,\"rep\"] = 3\n",
    "df.loc[df.iloc[24:30].index.values,\"rep\"] = 4\n",
    "df[[\"action\", \"runtime\", \"rep\"]].groupby(by=[\"action\", \"rep\"]).max()\n",
    "ax = sns.barplot(x=\"action\", y=\"runtime\", data=df)\n",
    "plt.savefig(\"histo_15_20bins_lazy_3workers_dask.pdf\")"
   ]
  },
  {
   "cell_type": "code",
   "execution_count": 18,
   "metadata": {},
   "outputs": [
    {
     "data": {
      "text/plain": [
       "0    84.603669\n",
       "1    34.796887\n",
       "2    51.460765\n",
       "3    34.515604\n",
       "4    45.482203\n",
       "5    34.501269\n",
       "6    43.104903\n",
       "7    34.218857\n",
       "8    42.350031\n",
       "9    34.291142\n",
       "Name: runtime, dtype: float64"
      ]
     },
     "execution_count": 18,
     "metadata": {},
     "output_type": "execute_result"
    },
    {
     "data": {
      "image/png": "[encoded data removed]",
      "text/plain": [
       "<Figure size 432x288 with 1 Axes>"
      ]
     },
     "metadata": {},
     "output_type": "display_data"
    }
   ],
   "source": [
    "df_hist = pd.read_csv(\"../results/us-west-2-R5.4xlarge/us-west-2-R5.4xlarge/histogram_orig_1f_5r_33554432b_20bins_seq_lazy.out\")\n",
    "df_hist.loc[df_hist[\"action\"].str.contains(\"s3fs\"), \"action\"] = \"s3fs\"\n",
    "df_hist.loc[df_hist[\"action\"].str.contains(\"prefetch\"), \"action\"] = \"RP\"\n",
    "df_hist[\"pipeline\"] = \"histogram\"\n",
    "ax = sns.barplot(x=\"action\", y=\"runtime\", data=df_hist)\n",
    "df_hist[\"runtime\"]\n",
    "#plt.savefig(\"histo_15_20bins_notlazy.pdf\")"
   ]
  },
  {
   "cell_type": "code",
   "execution_count": 24,
   "metadata": {},
   "outputs": [
    {
     "name": "stderr",
     "output_type": "stream",
     "text": [
      "<ipython-input-24-fdf0c5506c37>:5: SettingWithCopyWarning: \n",
      "A value is trying to be set on a copy of a slice from a DataFrame.\n",
      "Try using .loc[row_indexer,col_indexer] = value instead\n",
      "\n",
      "See the caveats in the documentation: https://pandas.pydata.org/pandas-docs/stable/user_guide/indexing.html#returning-a-view-versus-a-copy\n",
      "  df_seg[\"pipeline\"] = \"segmentation\"\n",
      "<ipython-input-24-fdf0c5506c37>:8: SettingWithCopyWarning: \n",
      "A value is trying to be set on a copy of a slice from a DataFrame.\n",
      "Try using .loc[row_indexer,col_indexer] = value instead\n",
      "\n",
      "See the caveats in the documentation: https://pandas.pydata.org/pandas-docs/stable/user_guide/indexing.html#returning-a-view-versus-a-copy\n",
      "  df_read[\"rep\"] = 0\n",
      "<ipython-input-24-fdf0c5506c37>:19: SettingWithCopyWarning: \n",
      "A value is trying to be set on a copy of a slice from a DataFrame.\n",
      "Try using .loc[row_indexer,col_indexer] = value instead\n",
      "\n",
      "See the caveats in the documentation: https://pandas.pydata.org/pandas-docs/stable/user_guide/indexing.html#returning-a-view-versus-a-copy\n",
      "  df_seg[\"compute time (s)\"] = df_seg[\"runtime\"] - avg_read_pf\n"
     ]
    },
    {
     "data": {
      "text/plain": [
       "(runtime    1302.970134\n",
       " dtype: float64,\n",
       " 8987.870753969,\n",
       " 0.14285714285714285)"
      ]
     },
     "execution_count": 24,
     "metadata": {},
     "output_type": "execute_result"
    },
    {
     "data": {
      "image/png": "[encoded data removed]",
      "text/plain": [
       "<Figure size 432x288 with 1 Axes>"
      ]
     },
     "metadata": {},
     "output_type": "display_data"
    }
   ],
   "source": [
    "df = pd.read_csv(\"../results/us-west-2-R5.4xlarge/segmentation_orig_waypoint_10f_5r_33554432b_16j_seq.out\")\n",
    "df_seg = df[df[\"action\"].str.contains(\"seg\")]\n",
    "df_seg.loc[df_seg[\"action\"].str.contains(\"s3fs\"), \"action\"] = \"s3fs\"\n",
    "df_seg.loc[df_seg[\"action\"].str.contains(\"prefetch\"), \"action\"] = \"RP\"\n",
    "df_seg[\"pipeline\"] = \"segmentation\"\n",
    "\n",
    "df_read = df.loc[df[\"action\"].str.contains(\"read\")]\n",
    "df_read[\"rep\"] = 0\n",
    "df_read.loc[df_read.iloc[18:34].index.values,\"rep\"] = 1\n",
    "df_read.loc[df_read.iloc[36:52].index.values,\"rep\"] = 2\n",
    "df_read.loc[df_read.iloc[54:70].index.values,\"rep\"] = 3\n",
    "df_read.loc[df_read.iloc[72:88].index.values,\"rep\"] = 4\n",
    "avg_read_pf = df_read.loc[df_read[\"action\"].str.contains(\"prefetch\"), \"runtime\"].mean()\n",
    "avg_read_s3fs = df_read.loc[df_read[\"action\"].str.contains(\"s3fs\"), [\"runtime\", \"rep\"]].groupby(by=[\"rep\"]).sum()\n",
    "\n",
    "df_hist.loc[df_hist[\"action\"].str.contains(\"s3fs\"), \"compute time (s)\"] = df_hist.loc[df_hist[\"action\"].str.contains(\"s3fs\"), \"runtime\"] - avg_read_s3fs\n",
    "df_hist.loc[df_hist[\"action\"].str.contains(\"RP\"), \"compute time (s)\"] = df_hist.loc[df_hist[\"action\"].str.contains(\"RP\"), \"runtime\"] - avg_read_pf\n",
    "\n",
    "df_seg[\"compute time (s)\"] = df_seg[\"runtime\"] - avg_read_pf\n",
    "\n",
    "speedup_hist = df_hist.loc[df_hist[\"action\"] == \"s3fs\", \"runtime\"].mean() / df_hist.loc[df_hist[\"action\"] == \"RP\", \"runtime\"].mean()\n",
    "speedup_seg = df_seg.loc[df_seg[\"action\"] == \"s3fs\", \"runtime\"].mean() / df_seg.loc[df_seg[\"action\"] == \"RP\", \"runtime\"].mean()\n",
    "\n",
    "\n",
    "df_all = pd.concat([df_hist, df_seg])\n",
    "ax = sns.barplot(x=[\"histogram\", \"segmentation\"], y=[speedup_hist, speedup_seg], color=\"seagreen\", saturation=0.5)\n",
    "df_hist[[\"runtime\",\"compute time (s)\"]]\n",
    "ax.set_ylabel(\"Avg. Speedup\")\n",
    "ax.set_xlabel(\"Application\")\n",
    "plt.savefig(\"speedup_application.pdf\")\n",
    "avg_read_s3fs.mean(), df_seg.loc[df_seg[\"action\"] == \"s3fs\", \"runtime\"].mean(), 1/7"
   ]
  },
  {
   "cell_type": "code",
   "execution_count": 25,
   "metadata": {},
   "outputs": [
    {
     "data": {
      "image/png": "[encoded data removed]",
      "text/plain": [
       "<Figure size 432x288 with 1 Axes>"
      ]
     },
     "metadata": {},
     "output_type": "display_data"
    }
   ],
   "source": [
    "df = pd.read_csv(\"../results/us-west-2-R5.4xlarge/segmentation_shards_waypoint_1f_5r_33554432b_16j_seq.out\")\n",
    "df[\"shards\"] = 1\n",
    "df_seg1 = df[df[\"action\"].str.contains(\"seg\")]\n",
    "\n",
    "\n",
    "df = pd.read_csv(\"../results/us-west-2-R5.4xlarge/segmentation_shards_waypoint_9f_5r_33554432b_16j_seq.out\")\n",
    "df[\"shards\"] = 9\n",
    "df_seg9 = df[df[\"action\"].str.contains(\"seg\")]\n",
    "\n",
    "df = pd.concat([df_seg1, df_seg9])\n",
    "\n",
    "speedup_1 = df_seg1.loc[df_seg1[\"action\"].str.contains(\"s3fs\"), \"runtime\"].mean() / df_seg1.loc[df_seg1[\"action\"].str.contains(\"prefetch\"), \"runtime\"].mean()\n",
    "speedup_9 = df_seg9.loc[df_seg9[\"action\"].str.contains(\"s3fs\"), \"runtime\"].mean() / df_seg9.loc[df_seg9[\"action\"].str.contains(\"prefetch\"), \"runtime\"].mean()\n",
    "\n",
    "ax = sns.barplot(x=[1, 9], y=[speedup_1, speedup_9], color=\"seagreen\", saturation=0.5)\n",
    "ax.set_ylabel(\"Avg. Speedup\")\n",
    "ax.set_xlabel(\"Number of Shards\")\n",
    "plt.savefig(\"speedup_shards.pdf\")"
   ]
  },
  {
   "cell_type": "code",
   "execution_count": 28,
   "metadata": {},
   "outputs": [
    {
     "data": {
      "text/plain": [
       "[1.5956766767416017,\n",
       " 1.14148707206663,\n",
       " 1.007439206037559,\n",
       " 1.6370406220735605,\n",
       " 1.549418214526996,\n",
       " 1.14148707206663]"
      ]
     },
     "execution_count": 28,
     "metadata": {},
     "output_type": "execute_result"
    },
    {
     "data": {
      "image/png": "[encoded data removed]",
      "text/plain": [
       "<Figure size 432x288 with 1 Axes>"
      ]
     },
     "metadata": {},
     "output_type": "display_data"
    }
   ],
   "source": [
    "import matplotlib.patches as mpatches\n",
    "x=[\"Instance type\", \"Instance type\", \"Number of shards\", \"Number of shards\", \"Application\", \"Application\"]\n",
    "y = [speedup_c, speedup_r, speedup_1, speedup_9, speedup_hist, speedup_seg]\n",
    "hue = [1,2,1,2,1,2]\n",
    "labels = [\"c5.9\", \"r5.4\", \"1\", \"9\", \"hist.\", \"bundle r.\"]\n",
    "#sns.set_style(\"whitegrid\", {\"axes.facecolor\": \".9\"})\n",
    "sns.set_theme()\n",
    "#sns.set_style(\"whitegrid\", {\"axes.facecolor\": \"1\"} )\n",
    "palette = sns.color_palette(\"colorblind\")\n",
    "#fig, ax = plt.subplots(figsize=(10, 4))\n",
    "ax = sns.barplot(\n",
    "    x=x,\n",
    "    y=y,\n",
    "    hue=hue,\n",
    "    palette=palette\n",
    ")\n",
    "handles = []\n",
    "palette = [palette[2]] + [palette[5]] + [palette[6]]\n",
    "for i, bar in enumerate(ax.patches):\n",
    "    if i in [0, 1, 2]:\n",
    "        bar.set_alpha(0.5)\n",
    "        handles.append(mpatches.Patch(color=palette[(i%3)], alpha=0.5))\n",
    "    bar.set_facecolor(palette[(i%3)])\n",
    "    handles.append(mpatches.Patch(color=palette[(i%3)]))\n",
    "ax.set_ylabel(\"Avg. Speedup\")\n",
    "ax.set_xticks([-0.2, 0.2, 0.8, 1.2, 1.8, 2.2])\n",
    "ax.set_xticklabels(labels)\n",
    "#plt.xticks(rotation=45)\n",
    "ax.get_legend().remove()\n",
    "\n",
    "ax.set_xlabel(\"Instance type         Num of files           Application   \")\n",
    "#tmp =plt.legend( handles=handles, labels=labels, loc=\"lower left\", bbox_to_anchor=(0, -0.2), borderaxespad=0, ncol=len(labels), )\n",
    "plt.savefig(\"speedup.pdf\", bbox_inches='tight')\n",
    "#ax.legend()\n",
    "y"
   ]
  },
  {
   "cell_type": "code",
   "execution_count": null,
   "metadata": {},
   "outputs": [],
   "source": []
  }
 ],
 "metadata": {
  "kernelspec": {
   "display_name": "Python 3",
   "language": "python",
   "name": "python3"
  },
  "language_info": {
   "codemirror_mode": {
    "name": "ipython",
    "version": 3
   },
   "file_extension": ".py",
   "mimetype": "text/x-python",
   "name": "python",
   "nbconvert_exporter": "python",
   "pygments_lexer": "ipython3",
   "version": "3.9.5"
  }
 },
 "nbformat": 4,
 "nbformat_minor": 4
}
